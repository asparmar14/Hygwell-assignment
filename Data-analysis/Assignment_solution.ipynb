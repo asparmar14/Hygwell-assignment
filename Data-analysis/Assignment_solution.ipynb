{
  "nbformat": 4,
  "nbformat_minor": 0,
  "metadata": {
    "colab": {
      "provenance": []
    },
    "kernelspec": {
      "name": "python3",
      "display_name": "Python 3"
    },
    "language_info": {
      "name": "python"
    }
  },
  "cells": [
    {
      "cell_type": "code",
      "source": [
        "from google.colab import drive\n",
        "drive.mount('/content/drive')"
      ],
      "metadata": {
        "colab": {
          "base_uri": "https://localhost:8080/"
        },
        "id": "kZqH1stRbxVD",
        "outputId": "a1b40844-cf20-40bc-e27b-59d229202bfa"
      },
      "execution_count": null,
      "outputs": [
        {
          "output_type": "stream",
          "name": "stdout",
          "text": [
            "Mounted at /content/drive\n"
          ]
        }
      ]
    },
    {
      "cell_type": "code",
      "source": [
        "import pandas as pd\n",
        "\n",
        "# Load the dataset\n",
        "df = pd.read_csv(\"/content/drive/MyDrive/assignment_Hygwell/traffic.csv\")\n",
        "\n",
        "# Explore the dataset\n",
        "print(df.head(5))"
      ],
      "metadata": {
        "colab": {
          "base_uri": "https://localhost:8080/"
        },
        "id": "D8Z7QOKrcEYR",
        "outputId": "fbabf963-64a1-4b6c-fd63-290c391c1fdd"
      },
      "execution_count": null,
      "outputs": [
        {
          "output_type": "stream",
          "name": "stdout",
          "text": [
            "   event        date       country      city  \\\n",
            "0  click  2021-08-21  Saudi Arabia    Jeddah   \n",
            "1  click  2021-08-21  Saudi Arabia    Jeddah   \n",
            "2  click  2021-08-21         India  Ludhiana   \n",
            "3  click  2021-08-21        France   Unknown   \n",
            "4  click  2021-08-21      Maldives      Malé   \n",
            "\n",
            "                              artist          album          track  \\\n",
            "0                             Tesher    Jalebi Baby    Jalebi Baby   \n",
            "1                             Tesher    Jalebi Baby    Jalebi Baby   \n",
            "2                      Reyanna Maria      So Pretty      So Pretty   \n",
            "3  Simone & Simaria, Sebastian Yatra  No Llores Más  No Llores Más   \n",
            "4                             Tesher    Jalebi Baby    Jalebi Baby   \n",
            "\n",
            "           isrc                                linkid  \n",
            "0  QZNWQ2070741  2d896d31-97b6-4869-967b-1c5fb9cd4bb8  \n",
            "1  QZNWQ2070741  2d896d31-97b6-4869-967b-1c5fb9cd4bb8  \n",
            "2  USUM72100871  23199824-9cf5-4b98-942a-34965c3b0cc2  \n",
            "3  BRUM72003904  35573248-4e49-47c7-af80-08a960fa74cd  \n",
            "4  QZNWQ2070741  2d896d31-97b6-4869-967b-1c5fb9cd4bb8  \n"
          ]
        }
      ]
    },
    {
      "cell_type": "code",
      "source": [
        "print(df.info())"
      ],
      "metadata": {
        "colab": {
          "base_uri": "https://localhost:8080/"
        },
        "id": "l-aD-5JKb5aU",
        "outputId": "72c1781f-6c57-4bac-8f60-e79cd5c2232c"
      },
      "execution_count": null,
      "outputs": [
        {
          "output_type": "stream",
          "name": "stdout",
          "text": [
            "<class 'pandas.core.frame.DataFrame'>\n",
            "RangeIndex: 226278 entries, 0 to 226277\n",
            "Data columns (total 9 columns):\n",
            " #   Column   Non-Null Count   Dtype \n",
            "---  ------   --------------   ----- \n",
            " 0   event    226278 non-null  object\n",
            " 1   date     226278 non-null  object\n",
            " 2   country  226267 non-null  object\n",
            " 3   city     226267 non-null  object\n",
            " 4   artist   226241 non-null  object\n",
            " 5   album    226273 non-null  object\n",
            " 6   track    226273 non-null  object\n",
            " 7   isrc     219157 non-null  object\n",
            " 8   linkid   226278 non-null  object\n",
            "dtypes: object(9)\n",
            "memory usage: 15.5+ MB\n",
            "None\n"
          ]
        }
      ]
    },
    {
      "cell_type": "code",
      "source": [
        "print(df.describe())"
      ],
      "metadata": {
        "colab": {
          "base_uri": "https://localhost:8080/"
        },
        "id": "pOOKN29ncMLj",
        "outputId": "8739de0d-f3e9-45cf-b790-d838e4dfbf39"
      },
      "execution_count": null,
      "outputs": [
        {
          "output_type": "stream",
          "name": "stdout",
          "text": [
            "           event        date       country    city  artist        album  \\\n",
            "count     226278      226278        226267  226267  226241       226273   \n",
            "unique         3           7           211   11993    2419         3254   \n",
            "top     pageview  2021-08-19  Saudi Arabia  Jeddah  Tesher  Jalebi Baby   \n",
            "freq      142015       35361         47334   22791   40841        40841   \n",
            "\n",
            "              track          isrc                                linkid  \n",
            "count        226273        219157                                226278  \n",
            "unique         3562           709                                  3839  \n",
            "top     Jalebi Baby  QZNWQ2070741  2d896d31-97b6-4869-967b-1c5fb9cd4bb8  \n",
            "freq          40841         40841                                 40841  \n"
          ]
        }
      ]
    },
    {
      "cell_type": "markdown",
      "source": [
        "# Total and Daily Pageview Events\n",
        "1. How many total pageview events did the links in the dataset receive during the entire period?\n",
        "2. What is the average number of pageview events per day?\n"
      ],
      "metadata": {
        "id": "QbuufYmGcUVc"
      }
    },
    {
      "cell_type": "code",
      "source": [
        "# Total pageview events\n",
        "total_pageviews = len(df)\n",
        "\n",
        "# Convert 'date' to datetime if it's not already\n",
        "df['date'] = pd.to_datetime(df['date'])\n",
        "\n",
        "# Average pageview events per day\n",
        "average_pageviews_per_day = df.groupby(df['date'].dt.date).size().mean()\n",
        "\n",
        "print(f\"Total Pageview Events: {total_pageviews}\")\n",
        "print(f\"Average Pageview Events per Day: {average_pageviews_per_day}\")"
      ],
      "metadata": {
        "colab": {
          "base_uri": "https://localhost:8080/"
        },
        "id": "Ph0hSJskcNRI",
        "outputId": "39fc4003-4c7e-4e47-820b-453face3f8f3"
      },
      "execution_count": null,
      "outputs": [
        {
          "output_type": "stream",
          "name": "stdout",
          "text": [
            "Total Pageview Events: 226278\n",
            "Average Pageview Events per Day: 32325.428571428572\n"
          ]
        }
      ]
    },
    {
      "cell_type": "markdown",
      "source": [
        "### Explanation:\n",
        "\n",
        "- Total Pageviews: We count the occurrences of 'click' events, assuming 'click' represents a pageview. This gives the total number of pageviews during the entire period.\n",
        "- Average Pageviews per Day: We first convert the 'date' column to datetime format to ensure correct date operations. We then group the data by date to count the number of pageviews per day and calculate the average."
      ],
      "metadata": {
        "id": "sbL8WXDXXwCO"
      }
    },
    {
      "cell_type": "markdown",
      "source": [
        "# Analysis of Other Events:\n",
        "What is the total count and distribution of other recorded events in the dataset?\n"
      ],
      "metadata": {
        "id": "x-glVLdcdcMD"
      }
    },
    {
      "cell_type": "code",
      "source": [
        "# Count the distribution of different event types\n",
        "event_distribution = df['event'].value_counts()\n",
        "\n",
        "print(f\"Event Distribution:\\n{event_distribution}\")"
      ],
      "metadata": {
        "colab": {
          "base_uri": "https://localhost:8080/"
        },
        "id": "eddKlmr7dga7",
        "outputId": "dc332de1-5e94-4d6c-8a8c-f58a1d589e29"
      },
      "execution_count": null,
      "outputs": [
        {
          "output_type": "stream",
          "name": "stdout",
          "text": [
            "Event Distribution:\n",
            "event\n",
            "pageview    142015\n",
            "click        55732\n",
            "preview      28531\n",
            "Name: count, dtype: int64\n"
          ]
        }
      ]
    },
    {
      "cell_type": "markdown",
      "source": [
        "## Explanation:\n",
        "\n",
        "- We used the value_counts() method to determine how many times each type of event ('pageview', 'click', 'preview') occurred in the dataset."
      ],
      "metadata": {
        "id": "yqYvfHACX8I1"
      }
    },
    {
      "cell_type": "markdown",
      "source": [
        "# Geographical Distribution:\n",
        "Which countries contributed to the pageviews?"
      ],
      "metadata": {
        "id": "71htn-JbdjD5"
      }
    },
    {
      "cell_type": "code",
      "source": [
        "# Countries contributing to pageviews (or clicks)\n",
        "pageviews_by_country = df.groupby('country').size()\n",
        "\n",
        "print(f\"Pageviews by Country:\\n{pageviews_by_country}\")"
      ],
      "metadata": {
        "colab": {
          "base_uri": "https://localhost:8080/"
        },
        "id": "22awPiCedl6U",
        "outputId": "fc0f5cd0-6415-441a-f554-1fee6a9ad57d"
      },
      "execution_count": null,
      "outputs": [
        {
          "output_type": "stream",
          "name": "stdout",
          "text": [
            "Pageviews by Country:\n",
            "country\n",
            "Afghanistan            2\n",
            "Albania              489\n",
            "Algeria              676\n",
            "American Samoa         4\n",
            "Andorra                3\n",
            "                    ... \n",
            "Wallis and Futuna      2\n",
            "Yemen                 83\n",
            "Zambia               135\n",
            "Zimbabwe              26\n",
            "Åland                  6\n",
            "Length: 211, dtype: int64\n"
          ]
        }
      ]
    },
    {
      "cell_type": "markdown",
      "source": [
        "## Explanation:\n",
        "\n",
        "- We grouped the data by 'country' and counted the number of pageviews from each country to understand the geographical distribution."
      ],
      "metadata": {
        "id": "-xpGSLKZYBUa"
      }
    },
    {
      "cell_type": "markdown",
      "source": [
        "# Click-Through Rate (CTR) Analysis:\n",
        "1. What is the overall click-through rate (CTR) calculated as clicks/pageviews?\n",
        "2. How does the CTR vary across different links?"
      ],
      "metadata": {
        "id": "ASxErQJQdnMl"
      }
    },
    {
      "cell_type": "code",
      "source": [
        "# Assume 'clicks' are indicated by 'click' in the 'event' column\n",
        "total_clicks = df[df['event'] == 'click'].shape[0]\n",
        "\n",
        "# Overall CTR (if each row is a pageview, then clicks/total rows)\n",
        "overall_ctr = total_clicks / total_pageviews\n",
        "\n",
        "# CTR by link\n",
        "ctr_by_link = df[df['event'] == 'click'].groupby('linkid').size() / df.groupby('linkid').size()\n",
        "\n",
        "print(f\"Overall CTR: {overall_ctr}\")\n",
        "print(f\"CTR by Link:\\n{ctr_by_link}\")"
      ],
      "metadata": {
        "colab": {
          "base_uri": "https://localhost:8080/"
        },
        "id": "vJwSQ46hdrUd",
        "outputId": "2fc1e0f9-666e-48f7-b0ff-89ecbe7cc0c2"
      },
      "execution_count": null,
      "outputs": [
        {
          "output_type": "stream",
          "name": "stdout",
          "text": [
            "Overall CTR: 0.24629880059042417\n",
            "CTR by Link:\n",
            "linkid\n",
            "00073307-ae96-5089-a117-4783afb42f8e         NaN\n",
            "00126b32-0c35-507b-981c-02c80d2aa8e7    0.500000\n",
            "0018cfff-50a1-5984-9715-01ef2d11a49a         NaN\n",
            "0033934b-5d16-5a06-af58-d087bcdd3680         NaN\n",
            "0034d6cf-3bd8-5ffe-aafc-b3959fc48608         NaN\n",
            "                                          ...   \n",
            "fff38ca0-8043-50cd-a5f1-f65ebb7105c5    0.500000\n",
            "fff4e5f0-4ee5-5fe7-aa30-e870edaf6ed7         NaN\n",
            "fff84c0e-90a1-59d8-9997-adc909d50e16    0.500000\n",
            "fffc17a7-f935-5d3e-bd3e-d761fd80d479    0.333333\n",
            "fffd0045-29de-522b-b5d8-35786363bf07    0.333333\n",
            "Length: 3839, dtype: float64\n"
          ]
        }
      ]
    },
    {
      "cell_type": "markdown",
      "source": [
        "## Explanation:\n",
        "\n",
        "- Overall CTR: We calculated the overall CTR by dividing the total number of clicks by the total number of pageviews.\n",
        "- CTR by Link: For each link, we computed the CTR by dividing the number of clicks by the total number of pageviews for that link."
      ],
      "metadata": {
        "id": "ACOHkilFYGAx"
      }
    },
    {
      "cell_type": "markdown",
      "source": [
        "# Correlation Analysis:\n",
        "1. Is there a correlation between clicks and previews on a link? If so, is it statistically significant, and how strong is the effect?\n",
        "2. Perform tests for both potential linear relationships and categorical (binary) relationships between these variables.\n"
      ],
      "metadata": {
        "id": "iQM8zSIddsKl"
      }
    },
    {
      "cell_type": "code",
      "source": [
        "# Group by 'linkid' to get total pageviews and clicks per link\n",
        "df_summary = df.groupby('linkid').agg(pageviews=('event', 'size'),\n",
        "                                      clicks=('event', lambda x: (x == 'click').sum()))\n",
        "\n",
        "# Display the summary DataFrame for verification\n",
        "print(df_summary.head())"
      ],
      "metadata": {
        "colab": {
          "base_uri": "https://localhost:8080/"
        },
        "id": "i4RvHAgVAEOE",
        "outputId": "090b4073-5da2-4745-be98-09a0a7761a1c"
      },
      "execution_count": null,
      "outputs": [
        {
          "output_type": "stream",
          "name": "stdout",
          "text": [
            "                                      pageviews  clicks\n",
            "linkid                                                 \n",
            "00073307-ae96-5089-a117-4783afb42f8e          2       0\n",
            "00126b32-0c35-507b-981c-02c80d2aa8e7          4       2\n",
            "0018cfff-50a1-5984-9715-01ef2d11a49a          1       0\n",
            "0033934b-5d16-5a06-af58-d087bcdd3680          1       0\n",
            "0034d6cf-3bd8-5ffe-aafc-b3959fc48608          1       0\n"
          ]
        }
      ]
    },
    {
      "cell_type": "code",
      "source": [
        "# Pearson Correlation Coefficient:\n",
        "\n",
        "from scipy.stats import pearsonr\n",
        "\n",
        "# Calculate Pearson correlation coefficient\n",
        "corr, p_value = pearsonr(df_summary['pageviews'], df_summary['clicks'])\n",
        "\n",
        "print(f\"Pearson Correlation Coefficient: {corr}\")\n",
        "print(f\"P-value: {p_value}\")"
      ],
      "metadata": {
        "colab": {
          "base_uri": "https://localhost:8080/"
        },
        "id": "mxmcxVwoVckf",
        "outputId": "4872301f-e80b-4a5d-8813-3eb4479fd015"
      },
      "execution_count": null,
      "outputs": [
        {
          "output_type": "stream",
          "name": "stdout",
          "text": [
            "Pearson Correlation Coefficient: 0.9961979652990269\n",
            "P-value: 0.0\n"
          ]
        }
      ]
    },
    {
      "cell_type": "markdown",
      "source": [
        "## Explanation:\n",
        "\n",
        "- Pearson Correlation Coefficient: Measures the strength and direction of the linear relationship between clicks and pageviews. A value close to 1 or -1 indicates a strong correlation, while a value close to 0 indicates a weak correlation.\n",
        "- P-value: Determines if the observed correlation is statistically significant. A p-value below 0.05 suggests significance.\n",
        "\n",
        "### Results:\n",
        "\n",
        "- Pearson Correlation Coefficient: 0.996 (very strong positive correlation)\n",
        "- P-value: 0.0 (statistically significant)"
      ],
      "metadata": {
        "id": "k_Knm9OCZDcQ"
      }
    },
    {
      "cell_type": "code",
      "source": [
        "# Chi-Square Test (Categorical Relationship):\n",
        "\n",
        "from scipy.stats import chi2_contingency\n",
        "\n",
        "# Create binary columns for pageviews and clicks\n",
        "df_summary['high_pageviews'] = df_summary['pageviews'] > df_summary['pageviews'].median()\n",
        "df_summary['has_clicks'] = df_summary['clicks'] > 0\n",
        "\n",
        "# Create the contingency table\n",
        "contingency_table = pd.crosstab(df_summary['has_clicks'], df_summary['high_pageviews'])\n",
        "\n",
        "# Perform Chi-Square test\n",
        "chi2, p, dof, expected = chi2_contingency(contingency_table)\n",
        "\n",
        "print(f\"Chi-Square Statistic: {chi2}\")\n",
        "print(f\"P-value: {p}\")"
      ],
      "metadata": {
        "colab": {
          "base_uri": "https://localhost:8080/"
        },
        "id": "UGLLA2DuZW-o",
        "outputId": "08bd6619-6e2e-441d-fc51-1a1206b405b3"
      },
      "execution_count": null,
      "outputs": [
        {
          "output_type": "stream",
          "name": "stdout",
          "text": [
            "Chi-Square Statistic: 1031.9421767824772\n",
            "P-value: 2.047840054211702e-226\n"
          ]
        }
      ]
    },
    {
      "cell_type": "markdown",
      "source": [
        "## Explanation:\n",
        "\n",
        "- Chi-Square Test: Assesses if there's a significant association between clicks and high/low pageviews. The contingency table is used to test the independence of the categorical variables.\n",
        "- Chi-Square Statistic and P-value: The statistic indicates the strength of the association, while the p-value shows if it's statistically significan\n",
        "\n",
        "### Results:\n",
        "\n",
        "- Chi-Square Statistic: 1031.94\n",
        "- P-value: 2.05e-226 (highly significant)"
      ],
      "metadata": {
        "id": "k27hFiRVZesw"
      }
    },
    {
      "cell_type": "code",
      "source": [
        "import seaborn as sns\n",
        "import matplotlib.pyplot as plt\n",
        "\n",
        "# Plot heatmap for the contingency table\n",
        "plt.figure(figsize=(8, 6))\n",
        "sns.heatmap(contingency_table, annot=True, fmt='d', cmap='Blues')\n",
        "plt.title('Contingency Table: Clicks vs. High/Low Pageviews')\n",
        "plt.xlabel('High Pageviews')\n",
        "plt.ylabel('Has Clicks')\n",
        "plt.show()"
      ],
      "metadata": {
        "colab": {
          "base_uri": "https://localhost:8080/",
          "height": 564
        },
        "id": "dox_QcbYZXBp",
        "outputId": "ae63da5a-db06-403d-ea15-61ee20e9c886"
      },
      "execution_count": null,
      "outputs": [
        {
          "output_type": "display_data",
          "data": {
            "text/plain": [
              "<Figure size 800x600 with 2 Axes>"
            ],
            "image/png": "[encoded data removed]"
          },
          "metadata": {}
        }
      ]
    },
    {
      "cell_type": "markdown",
      "source": [
        "### Explanation:\n",
        "\n",
        "The heatmap visualizes the contingency table, showing the distribution of clicks versus high or low pageviews."
      ],
      "metadata": {
        "id": "H3C6cF9_Zo22"
      }
    }
  ]
}